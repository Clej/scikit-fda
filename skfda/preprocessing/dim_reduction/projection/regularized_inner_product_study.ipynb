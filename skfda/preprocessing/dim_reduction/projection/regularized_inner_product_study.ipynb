{
 "cells": [
  {
   "cell_type": "code",
   "execution_count": 1,
   "metadata": {},
   "outputs": [],
   "source": [
    "import numpy as np\n",
    "import skfda\n",
    "from skfda.preprocessing.dim_reduction.projection import FPCABasis, FPCAGrid, RegularizationParameterSearch, FPCARegularizationCVScorer\n",
    "from skfda.representation import FDataBasis, FDataGrid\n",
    "from skfda.datasets._real_datasets import fetch_growth, fetch_weather\n",
    "from matplotlib import pyplot as plt\n",
    "from matplotlib import pyplot\n",
    "from skfda.representation.basis import Fourier, BSpline, Monomial\n",
    "from sklearn.decomposition import PCA\n",
    "from sklearn.model_selection import KFold\n",
    "\n",
    "def fetch_weather_temp_only():\n",
    "    weather_dataset = fetch_weather()\n",
    "    fd_data = weather_dataset['data']\n",
    "    fd_data.data_matrix = fd_data.data_matrix[:, :, :1]\n",
    "    fd_data.axes_labels = fd_data.axes_labels[:-1]\n",
    "    return fd_data\n",
    "\n",
    "\n",
    "def inner_product_regularized(first,\n",
    "                              second,\n",
    "                              derivative_degree,\n",
    "                              regularization_parameter):\n",
    "    return first.inner_product(second) + \\\n",
    "           regularization_parameter * \\\n",
    "           first.derivative(derivative_degree).\\\n",
    "           inner_product(second.derivative(derivative_degree))\n"
   ]
  },
  {
   "cell_type": "code",
   "execution_count": 2,
   "metadata": {},
   "outputs": [],
   "source": [
    "np.set_printoptions(linewidth=400)"
   ]
  },
  {
   "cell_type": "code",
   "execution_count": 3,
   "metadata": {
    "scrolled": true
   },
   "outputs": [],
   "source": [
    "derivative_degree=2"
   ]
  },
  {
   "cell_type": "code",
   "execution_count": 4,
   "metadata": {},
   "outputs": [],
   "source": [
    "def plot_results(params, results):\n",
    "    pyplot.plot(params, results)\n",
    "    pyplot.show()"
   ]
  },
  {
   "cell_type": "markdown",
   "metadata": {},
   "source": [
    "La dependencia del parámetro lambda es lineal, como es de esperar de la fórmula del producto interior regularizado"
   ]
  },
  {
   "cell_type": "code",
   "execution_count": 13,
   "metadata": {
    "scrolled": true
   },
   "outputs": [
    {
     "name": "stdout",
     "output_type": "stream",
     "text": [
      "Fitting 5 folds for each of 7 candidates, totalling 35 fits\n"
     ]
    },
    {
     "name": "stderr",
     "output_type": "stream",
     "text": [
      "[Parallel(n_jobs=12)]: Using backend LokyBackend with 12 concurrent workers.\n",
      "[Parallel(n_jobs=12)]: Done  35 out of  35 | elapsed:   37.2s finished\n"
     ]
    },
    {
     "name": "stdout",
     "output_type": "stream",
     "text": [
      "{'mean_fit_time': array([1.13132215, 1.10386567, 1.12467022, 1.09972286, 1.1043716 , 1.08459897, 1.00745912]), 'std_fit_time': array([0.02175211, 0.02106356, 0.03630956, 0.0057886 , 0.00890451, 0.00476719, 0.1477706 ]), 'mean_score_time': array([10.61591959, 10.61138134, 10.60133448, 10.58241863, 10.62679591,  8.9183249 ,  8.52419558]), 'std_score_time': array([0.18289788, 0.16568435, 0.16703612, 0.09647947, 0.36735096, 0.45992709, 1.46764806]), 'param_regularization_parameter': masked_array(data=[0.1, 1, 10, 100, 1000, 10000, 100000],\n",
      "             mask=[False, False, False, False, False, False, False],\n",
      "       fill_value='?',\n",
      "            dtype=object), 'params': [{'regularization_parameter': 0.1}, {'regularization_parameter': 1}, {'regularization_parameter': 10}, {'regularization_parameter': 100}, {'regularization_parameter': 1000}, {'regularization_parameter': 10000}, {'regularization_parameter': 100000}], 'split0_test_score': array([-15182.8308209 , -15182.81314488, -15182.63643789, -15180.87467466, -15163.77354531, -15033.19673713, -14750.53978289]), 'split1_test_score': array([-9336.76128993, -9336.75893863, -9336.73543392, -9336.50122234, -9334.24014736, -9317.99020712, -9319.86907241]), 'split2_test_score': array([-13748.84516309, -13748.84017387, -13748.79030152, -13748.29355972, -13743.51780151, -13709.95834762, -13662.58982617]), 'split3_test_score': array([-22105.3869179 , -22105.37396824, -22105.24451403, -22103.95419233, -22091.46174592, -21998.69857372, -21908.39533426]), 'split4_test_score': array([-73998.8131206 , -73998.69116721, -73997.47192312, -73985.3083874 , -73866.48919287, -72900.71072737, -69095.00389715]), 'mean_test_score': array([-26874.52746248, -26874.49547856, -26874.1757221 , -26870.98640729, -26839.89648659, -26592.11091859, -25747.27958257]), 'std_test_score': array([23916.50287491, 23916.45795345, 23916.00884283, 23911.52810833, 23867.73151985, 23509.74032817, 22048.08410871]), 'rank_test_score': array([7, 6, 5, 4, 3, 2, 1], dtype=int32)}\n"
     ]
    }
   ],
   "source": [
    "fd_data = fetch_weather_temp_only()\n",
    "basis = skfda.representation.basis.Fourier(n_basis=9, domain_range=(0, 365))\n",
    "fd_basis = fd_data.to_basis(basis)\n",
    "finder1_params = [10**i for i in range(-1, 6)]\n",
    "finder1 = RegularizationParameterSearch(estimator=FPCABasis(regularization_lfd=2),\n",
    "                                       param_values=finder1_params,\n",
    "                                       scoring=FPCARegularizationCVScorer(),\n",
    "                                       verbose=True,\n",
    "                                       n_jobs=12,\n",
    "                                       cv=KFold(5))\n",
    "\n",
    "finder1.fit(fd_basis)\n",
    "print(finder1.cv_results_)"
   ]
  },
  {
   "cell_type": "code",
   "execution_count": 14,
   "metadata": {},
   "outputs": [
    {
     "data": {
      "text/plain": [
       "array([-26874.52746248, -26874.49547856, -26874.1757221 , -26870.98640729, -26839.89648659, -26592.11091859, -25747.27958257])"
      ]
     },
     "execution_count": 14,
     "metadata": {},
     "output_type": "execute_result"
    }
   ],
   "source": [
    "# KFold Scores\n",
    "finder1.cv_results_['mean_test_score']"
   ]
  },
  {
   "cell_type": "code",
   "execution_count": 15,
   "metadata": {
    "scrolled": true
   },
   "outputs": [
    {
     "data": {
      "image/png": "[encoded data removed]",
      "text/plain": [
       "<Figure size 432x288 with 1 Axes>"
      ]
     },
     "metadata": {
      "needs_background": "light"
     },
     "output_type": "display_data"
    }
   ],
   "source": [
    "plot_results(finder1_params,finder1.cv_results_['mean_test_score'])"
   ]
  },
  {
   "cell_type": "code",
   "execution_count": null,
   "metadata": {},
   "outputs": [],
   "source": []
  },
  {
   "cell_type": "code",
   "execution_count": null,
   "metadata": {},
   "outputs": [],
   "source": []
  },
  {
   "cell_type": "code",
   "execution_count": 19,
   "metadata": {
    "scrolled": true
   },
   "outputs": [
    {
     "name": "stdout",
     "output_type": "stream",
     "text": [
      "Fitting 5 folds for each of 5 candidates, totalling 25 fits\n"
     ]
    },
    {
     "name": "stderr",
     "output_type": "stream",
     "text": [
      "[Parallel(n_jobs=12)]: Using backend LokyBackend with 12 concurrent workers.\n",
      "[Parallel(n_jobs=12)]: Done  25 out of  25 | elapsed:   28.2s finished\n"
     ]
    },
    {
     "name": "stdout",
     "output_type": "stream",
     "text": [
      "{'mean_fit_time': array([1.19963841, 1.26503067, 1.27918344, 1.16165142, 1.1560689 ]), 'std_fit_time': array([0.01901258, 0.08201399, 0.08213876, 0.04446251, 0.13098751]), 'mean_score_time': array([11.38318815, 10.40082974,  9.98145485,  9.58017545,  7.40661435]), 'std_score_time': array([0.45856599, 0.36058832, 0.48189006, 0.15788799, 2.56318194]), 'param_regularization_parameter': masked_array(data=[100000, 1000000, 10000000, 100000000, 1000000000],\n",
      "             mask=[False, False, False, False, False],\n",
      "       fill_value='?',\n",
      "            dtype=object), 'params': [{'regularization_parameter': 100000}, {'regularization_parameter': 1000000}, {'regularization_parameter': 10000000}, {'regularization_parameter': 100000000}, {'regularization_parameter': 1000000000}], 'split0_test_score': array([-14750.53978289, -14994.1351075 , -18406.13543739, -25499.37428504, -27482.90422269]), 'split1_test_score': array([-9319.86907241, -9256.47717715, -7315.33074434, -6408.40377012, -6477.87618115]), 'split2_test_score': array([-13662.58982617, -14213.72274443, -16895.00798965, -22366.40483647, -23967.06510612]), 'split3_test_score': array([-21908.39533426, -23931.39650872, -36213.18767755, -53969.90230736, -58323.08746376]), 'split4_test_score': array([-69095.00389715, -59695.16366537, -53799.63214492, -83371.61840321, -95380.08946586]), 'mean_test_score': array([-25747.27958257, -24418.17904063, -26525.85879877, -38323.14072044, -42326.20448792]), 'std_test_score': array([22048.08410871, 18262.11015846, 16525.31776545, 27246.29637202, 31346.76755326]), 'rank_test_score': array([2, 1, 3, 4, 5], dtype=int32)}\n"
     ]
    }
   ],
   "source": [
    "fd_data = fetch_weather_temp_only()\n",
    "basis = skfda.representation.basis.Fourier(n_basis=9, domain_range=(0, 365))\n",
    "fd_basis = fd_data.to_basis(basis)\n",
    "finder1_params = [10**i for i in range(5, 10)]\n",
    "finder1 = RegularizationParameterSearch(estimator=FPCABasis(regularization_lfd=2),\n",
    "                                       param_values=finder1_params,\n",
    "                                       scoring=FPCARegularizationCVScorer(),\n",
    "                                       verbose=True,\n",
    "                                       n_jobs=12,\n",
    "                                       cv=KFold(5))\n",
    "\n",
    "finder1.fit(fd_basis)\n",
    "print(finder1.cv_results_)"
   ]
  },
  {
   "cell_type": "code",
   "execution_count": 23,
   "metadata": {},
   "outputs": [
    {
     "data": {
      "text/plain": [
       "100000.0"
      ]
     },
     "execution_count": 23,
     "metadata": {},
     "output_type": "execute_result"
    }
   ],
   "source": [
    "1e5"
   ]
  },
  {
   "cell_type": "code",
   "execution_count": 20,
   "metadata": {},
   "outputs": [
    {
     "data": {
      "text/plain": [
       "array([-25747.27958257, -24418.17904063, -26525.85879877, -38323.14072044, -42326.20448792])"
      ]
     },
     "execution_count": 20,
     "metadata": {},
     "output_type": "execute_result"
    }
   ],
   "source": [
    "# KFold Scores\n",
    "finder1.cv_results_['mean_test_score']"
   ]
  },
  {
   "cell_type": "code",
   "execution_count": 21,
   "metadata": {
    "scrolled": true
   },
   "outputs": [
    {
     "data": {
      "image/png": "[encoded data removed]",
      "text/plain": [
       "<Figure size 432x288 with 1 Axes>"
      ]
     },
     "metadata": {
      "needs_background": "light"
     },
     "output_type": "display_data"
    }
   ],
   "source": [
    "plot_results(finder1_params,finder1.cv_results_['mean_test_score'])"
   ]
  },
  {
   "cell_type": "code",
   "execution_count": null,
   "metadata": {},
   "outputs": [],
   "source": []
  },
  {
   "cell_type": "code",
   "execution_count": null,
   "metadata": {},
   "outputs": [],
   "source": []
  },
  {
   "cell_type": "code",
   "execution_count": null,
   "metadata": {},
   "outputs": [],
   "source": []
  },
  {
   "cell_type": "code",
   "execution_count": null,
   "metadata": {},
   "outputs": [],
   "source": []
  },
  {
   "cell_type": "code",
   "execution_count": 4,
   "metadata": {},
   "outputs": [
    {
     "data": {
      "text/plain": [
       "array([-3035.70345943, -3035.68704489, -3035.67064175, -3035.65425   ,\n",
       "       -3035.63786962, -3035.62150061])"
      ]
     },
     "execution_count": 4,
     "metadata": {},
     "output_type": "execute_result"
    }
   ],
   "source": [
    "# Leave One Out scores\n",
    "finder1.cv_results_['mean_test_score']"
   ]
  },
  {
   "cell_type": "code",
   "execution_count": 14,
   "metadata": {
    "scrolled": true
   },
   "outputs": [
    {
     "data": {
      "image/png": "[encoded data removed]",
      "text/plain": [
       "<Figure size 432x288 with 1 Axes>"
      ]
     },
     "metadata": {
      "needs_background": "light"
     },
     "output_type": "display_data"
    }
   ],
   "source": [
    "plot_results(list(range(50, 101, 10)),[-3035.70345943, -3035.68704489, -3035.67064175, -3035.65425   ,\n",
    "       -3035.63786962, -3035.62150061])"
   ]
  },
  {
   "cell_type": "code",
   "execution_count": null,
   "metadata": {},
   "outputs": [],
   "source": []
  },
  {
   "cell_type": "code",
   "execution_count": 17,
   "metadata": {
    "scrolled": true
   },
   "outputs": [
    {
     "name": "stdout",
     "output_type": "stream",
     "text": [
      "Fitting 35 folds for each of 7 candidates, totalling 245 fits\n"
     ]
    },
    {
     "name": "stderr",
     "output_type": "stream",
     "text": [
      "[Parallel(n_jobs=12)]: Using backend LokyBackend with 12 concurrent workers.\n",
      "[Parallel(n_jobs=12)]: Done  26 tasks      | elapsed:   11.1s\n",
      "[Parallel(n_jobs=12)]: Done 176 tasks      | elapsed:   46.5s\n",
      "[Parallel(n_jobs=12)]: Done 245 out of 245 | elapsed:  1.0min finished\n"
     ]
    },
    {
     "name": "stdout",
     "output_type": "stream",
     "text": [
      "{'mean_fit_time': array([1.21730115, 1.16600686, 1.20994453, 1.20908292, 1.16674933, 1.15323921, 1.14886285]), 'std_fit_time': array([0.10927032, 0.09299549, 0.0874016 , 0.10966046, 0.11063082, 0.09065879, 0.14045911]), 'mean_score_time': array([1.60718996, 1.59399988, 1.6909418 , 1.65827526, 1.56546578, 1.61406042, 1.43023293]), 'std_score_time': array([0.10133297, 0.10507518, 0.13533123, 0.13342185, 0.07013364, 0.14463707, 0.33953373]), 'param_regularization_parameter': masked_array(data=[0.1, 1, 10, 100, 1000, 10000, 100000],\n",
      "             mask=[False, False, False, False, False, False, False],\n",
      "       fill_value='?',\n",
      "            dtype=object), 'params': [{'regularization_parameter': 0.1}, {'regularization_parameter': 1}, {'regularization_parameter': 10}, {'regularization_parameter': 100}, {'regularization_parameter': 1000}, {'regularization_parameter': 10000}, {'regularization_parameter': 100000}], 'split0_test_score': array([-4007.69624928, -4007.69402322, -4007.67177027, -4007.45000173, -4005.30642967, -3989.69998929, -3983.55736481]), 'split1_test_score': array([-1020.73189957, -1020.7317067 , -1020.72977997, -1020.71070763, -1020.53886065, -1020.22248897, -1041.20369688]), 'split2_test_score': array([-2793.63324319, -2793.63218083, -2793.62156283, -2793.51594042, -2792.51392034, -2786.67650982, -2818.85839828]), 'split3_test_score': array([-1833.058174  , -1833.05725978, -1833.04812079, -1832.95705123, -1832.07745293, -1825.66525312, -1819.40556108]), 'split4_test_score': array([-1467.27271123, -1467.27248712, -1467.27024834, -1467.24808455, -1467.04818139, -1466.69837455, -1493.50108222]), 'split5_test_score': array([-492.99093559, -492.99123636, -492.99424461, -493.02438312, -493.33114916, -496.76086214, -526.07468774]), 'split6_test_score': array([-1654.66322609, -1654.6600396 , -1654.62817981, -1654.31009891, -1651.17987388, -1624.01854313, -1487.77097157]), 'split7_test_score': array([-1366.6780174 , -1366.67865479, -1366.68502967, -1366.74887265, -1367.39630317, -1374.47802954, -1445.14990174]), 'split8_test_score': array([-1110.85417165, -1110.85476625, -1110.86071247, -1110.92019624, -1111.51726222, -1117.72643541, -1179.26456797]), 'split9_test_score': array([-838.25905585, -838.25931713, -838.26193028, -838.28810302, -838.55364889, -841.38865237, -862.73046703]), 'split10_test_score': array([-515.38887885, -515.38859499, -515.38576091, -515.35786733, -515.12167826, -515.52902358, -543.85869317]), 'split11_test_score': array([-1664.69301386, -1664.69271146, -1664.6896887 , -1664.65957965, -1664.36992746, -1662.30032693, -1656.09629946]), 'split12_test_score': array([-1648.70044621, -1648.70015506, -1648.69724466, -1648.66824826, -1648.38864024, -1646.32086623, -1637.0492012 ]), 'split13_test_score': array([-982.63174954, -982.63170549, -982.63126595, -982.62696963, -982.59340908, -982.83209705, -981.36730477]), 'split14_test_score': array([-968.02501159, -968.02465693, -968.02111178, -967.98580522, -967.64661525, -965.17944569, -949.38240908]), 'split15_test_score': array([-493.26087235, -493.26130424, -493.26562361, -493.30886556, -493.74594378, -498.44146527, -540.36825025]), 'split16_test_score': array([-3016.70580831, -3016.70542979, -3016.70164685, -3016.66404932, -3016.31058818, -3014.5069364 , -3037.51495331]), 'split17_test_score': array([-1978.88369669, -1978.88480776, -1978.89592005, -1979.00720273, -1980.13492009, -1992.15426465, -2083.32604397]), 'split18_test_score': array([-2893.20675332, -2893.19840404, -2893.11492266, -2892.28124663, -2884.058507  , -2813.06261142, -2562.20457383]), 'split19_test_score': array([-1962.79742813, -1962.7975199 , -1962.7984377 , -1962.80762584, -1962.90045451, -1963.87576237, -1973.31788879]), 'split20_test_score': array([-2391.06541437, -2391.06748534, -2391.08819341, -2391.29511176, -2393.34808428, -2412.31439813, -2520.60203884]), 'split21_test_score': array([-2272.39941254, -2272.40133192, -2272.42052631, -2272.61252297, -2274.53707388, -2293.75296025, -2428.8242121 ]), 'split22_test_score': array([-1526.45076342, -1526.45135498, -1526.45727039, -1526.51641234, -1527.10650514, -1532.80514665, -1569.27063571]), 'split23_test_score': array([-1105.64021459, -1105.6399422 , -1105.63721909, -1105.61007278, -1105.34699488, -1103.46117821, -1112.03288655]), 'split24_test_score': array([-2309.9885919 , -2309.98580051, -2309.95789295, -2309.67945035, -2306.95676712, -2284.68554413, -2212.73064213]), 'split25_test_score': array([-3093.46738788, -3093.4664639 , -3093.45722953, -3093.36542777, -3092.50007865, -3087.90445151, -3136.31083896]), 'split26_test_score': array([-4438.41034411, -4438.40857269, -4438.39086592, -4438.21453763, -4436.52323718, -4425.23309725, -4453.02588323]), 'split27_test_score': array([-2584.57079421, -2584.5697929 , -2584.55978216, -2584.45991308, -2583.4845604 , -2575.65911746, -2562.21399811]), 'split28_test_score': array([-8176.14471987, -8176.14301023, -8176.12591795, -8175.95540329, -8174.28996573, -8160.73151876, -8116.56851434]), 'split29_test_score': array([-2916.04662058, -2916.04524861, -2916.03153121, -2915.89458858, -2914.54805652, -2903.12834734, -2870.07419663]), 'split30_test_score': array([-8504.07557268, -8504.06515006, -8503.96093926, -8502.920371  , -8492.66802582, -8405.50123444, -8230.41427823]), 'split31_test_score': array([-2156.76819155, -2156.77100709, -2156.79916046, -2157.08048661, -2159.87300323, -2185.78342705, -2333.58446021]), 'split32_test_score': array([-7210.9691494 , -7210.9635936 , -7210.90804675, -7210.35369732, -7204.91925905, -7159.21043516, -6939.78721139]), 'split33_test_score': array([-5592.57842524, -5592.58741498, -5592.67731294, -5593.57635652, -5602.57090929, -5691.27702223, -6276.00946307]), 'split34_test_score': array([-19263.78690258, -19263.75881554, -19263.47801759, -19260.67726963, -19233.37631388, -19017.52367548, -18510.49552442]), 'mean_test_score': array([-3035.7855385 , -3035.7840556 , -3035.76923165, -3035.62150061, -3034.19378861, -3023.9002712 , -3025.54134574]), 'std_test_score': array([3423.43992438, 3423.43553985, 3423.39170546, 3422.95445746, 3418.68915935, 3384.83026497, 3309.01230775]), 'rank_test_score': array([7, 6, 5, 4, 3, 1, 2], dtype=int32)}\n"
     ]
    }
   ],
   "source": [
    "fd_data = fetch_weather_temp_only()\n",
    "basis = skfda.representation.basis.Fourier(n_basis=9, domain_range=(0, 365))\n",
    "fd_basis = fd_data.to_basis(basis)\n",
    "finder1_params = [10**i for i in range(2, 8)]\n",
    "finder1 = RegularizationParameterSearch(estimator=FPCABasis(regularization_lfd=2),\n",
    "                                       param_values=finder1_params,\n",
    "                                       scoring=FPCARegularizationCVScorer(),\n",
    "                                       verbose=True,\n",
    "                                       n_jobs=12)\n",
    "\n",
    "finder1.fit(fd_basis)\n",
    "print(finder1.cv_results_)"
   ]
  },
  {
   "cell_type": "code",
   "execution_count": 18,
   "metadata": {
    "scrolled": true
   },
   "outputs": [
    {
     "data": {
      "image/png": "[encoded data removed]",
      "text/plain": [
       "<Figure size 432x288 with 1 Axes>"
      ]
     },
     "metadata": {
      "needs_background": "light"
     },
     "output_type": "display_data"
    }
   ],
   "source": [
    "plot_results(finder1_params,finder1.cv_results_['mean_test_score'])"
   ]
  },
  {
   "cell_type": "code",
   "execution_count": null,
   "metadata": {},
   "outputs": [],
   "source": []
  },
  {
   "cell_type": "code",
   "execution_count": null,
   "metadata": {},
   "outputs": [],
   "source": []
  },
  {
   "cell_type": "code",
   "execution_count": 5,
   "metadata": {
    "scrolled": true
   },
   "outputs": [
    {
     "name": "stdout",
     "output_type": "stream",
     "text": [
      "Fitting 35 folds for each of 6 candidates, totalling 210 fits\n"
     ]
    },
    {
     "name": "stderr",
     "output_type": "stream",
     "text": [
      "[Parallel(n_jobs=12)]: Using backend LokyBackend with 12 concurrent workers.\n",
      "[Parallel(n_jobs=12)]: Done  26 tasks      | elapsed:   11.1s\n",
      "[Parallel(n_jobs=12)]: Done 176 tasks      | elapsed:   45.4s\n",
      "[Parallel(n_jobs=12)]: Done 210 out of 210 | elapsed:   52.1s finished\n"
     ]
    },
    {
     "name": "stdout",
     "output_type": "stream",
     "text": [
      "{'mean_fit_time': array([1.1245943 , 1.13730905, 1.11492243, 1.14567303, 1.1533544 , 1.11938011]), 'std_fit_time': array([0.05475619, 0.07570959, 0.05014831, 0.09292487, 0.08402619, 0.09384382]), 'mean_score_time': array([1.60980266, 1.56775801, 1.56256614, 1.61324539, 1.61835506, 1.45340787]), 'std_score_time': array([0.12324082, 0.10672792, 0.07272748, 0.10724409, 0.09268854, 0.27608232]), 'param_regularization_parameter': masked_array(data=[50, 60, 70, 80, 90, 100],\n",
      "             mask=[False, False, False, False, False, False],\n",
      "       fill_value='?',\n",
      "            dtype=object), 'params': [{'regularization_parameter': 50}, {'regularization_parameter': 60}, {'regularization_parameter': 70}, {'regularization_parameter': 80}, {'regularization_parameter': 90}, {'regularization_parameter': 100}], 'split0_test_score': array([-4007.57303588, -4007.54839498, -4007.52377112, -4007.49916431, -4007.47457451, -4007.45000173]), 'split1_test_score': array([-1020.72125966, -1020.71914053, -1020.71702576, -1020.71491536, -1020.71280932, -1020.71070763]), 'split2_test_score': array([-2793.57449455, -2793.56275876, -2793.55103546, -2793.53932465, -2793.52762631, -2793.51594042]), 'split3_test_score': array([-1833.00757364, -1832.99745482, -1832.98734318, -1832.9772387 , -1832.96714139, -1832.95705123]), 'split4_test_score': array([-1467.26034756, -1467.25788493, -1467.25542732, -1467.25297473, -1467.25052714, -1467.24808455]), 'split5_test_score': array([-493.00762694, -493.01097567, -493.01432565, -493.01767689, -493.02102938, -493.02438312]), 'split6_test_score': array([-1654.4866946 , -1654.45135231, -1654.4160216 , -1654.38070247, -1654.34539491, -1654.31009891]), 'split7_test_score': array([-1366.71338323, -1366.7204769 , -1366.72757268, -1366.73467057, -1366.74177056, -1366.74887265]), 'split8_test_score': array([-1110.88714486, -1110.89375416, -1110.90036395, -1110.90697423, -1110.91358499, -1110.92019624]), 'split9_test_score': array([-838.2735534 , -838.27646148, -838.27937049, -838.28228042, -838.28519126, -838.28810302]), 'split10_test_score': array([-515.3732636 , -515.37016436, -515.36707512, -515.36399588, -515.36092662, -515.35786733]), 'split11_test_score': array([-1664.67628034, -1664.6729349 , -1664.66959211, -1664.66625198, -1664.66291449, -1664.65957965]), 'split12_test_score': array([-1648.68433326, -1648.68111144, -1648.67789204, -1648.67467504, -1648.67146045, -1648.66824826]), 'split13_test_score': array([-982.6293343 , -982.62885694, -982.6283818 , -982.62790887, -982.62743815, -982.62696963]), 'split14_test_score': array([-968.00538751, -968.00146457, -967.99754488, -967.99362842, -967.9897152 , -967.98580522]), 'split15_test_score': array([-493.28483144, -493.28963611, -493.29444185, -493.29924868, -493.30405658, -493.30886556]), 'split16_test_score': array([-3016.68488488, -3016.68070739, -3016.67653509, -3016.67236798, -3016.66820606, -3016.66404932]), 'split17_test_score': array([-1978.94534327, -1978.95770804, -1978.97007638, -1978.98244828, -1978.99482373, -1979.00720273]), 'split18_test_score': array([-2892.74414455, -2892.65151388, -2892.55890875, -2892.46632916, -2892.37377512, -2892.28124663]), 'split19_test_score': array([-1962.80251904, -1962.80353995, -1962.80456108, -1962.80558244, -1962.80660403, -1962.80762584]), 'split20_test_score': array([-2391.18019355, -2391.20318448, -2391.22617177, -2391.24915541, -2391.27213541, -2391.29511176]), 'split21_test_score': array([-2272.5058464 , -2272.52717938, -2272.54851353, -2272.56984885, -2272.59118533, -2272.61252297]), 'split22_test_score': array([-1526.48355846, -1526.49012979, -1526.49670084, -1526.50327162, -1526.50984212, -1526.51641234]), 'split23_test_score': array([-1105.62513504, -1105.62211879, -1105.61910444, -1105.61609199, -1105.61308143, -1105.61007278]), 'split24_test_score': array([-2309.83399876, -2309.80306073, -2309.77213689, -2309.74122722, -2309.71033171, -2309.67945035]), 'split25_test_score': array([-3093.41630728, -3093.40610712, -3093.3959191 , -3093.38574321, -3093.37557943, -3093.36542777]), 'split26_test_score': array([-4438.31233203, -4438.29274004, -4438.27316462, -4438.25360575, -4438.23406343, -4438.21453763]), 'split27_test_score': array([-2584.51534247, -2584.50424592, -2584.49315471, -2584.48206883, -2584.47098829, -2584.45991308]), 'split28_test_score': array([-8176.05004215, -8176.0310961 , -8176.0121592 , -8175.99323143, -8175.9743128 , -8175.95540329]), 'split29_test_score': array([-2915.97061592, -2915.95540007, -2915.94018942, -2915.92498396, -2915.90978368, -2915.89458858]), 'split30_test_score': array([-8503.49811894, -8503.38250026, -8503.26691613, -8503.15136655, -8503.03585151, -8502.920371  ]), 'split31_test_score': array([-2156.92424089, -2156.95549935, -2156.98675315, -2157.0180023 , -2157.04924678, -2157.08048661]), 'split32_test_score': array([-7210.66141837, -7210.59982405, -7210.53825481, -7210.47671062, -7210.41519146, -7210.35369732]), 'split33_test_score': array([-5593.07687377, -5593.17676755, -5593.27666274, -5593.3765593 , -5593.47645723, -5593.57635652]), 'split34_test_score': array([-19262.23161936, -19261.92042552, -19261.60939374, -19261.29852391, -19260.98781591, -19260.67726963]), 'mean_test_score': array([-3035.70345943, -3035.68704489, -3035.67064175, -3035.65425   , -3035.63786962, -3035.62150061]), 'std_test_score': array([3423.19712732, 3423.14854426, 3423.09998576, 3423.05145181, 3423.00294238, 3422.95445746]), 'rank_test_score': array([6, 5, 4, 3, 2, 1], dtype=int32)}\n"
     ]
    }
   ],
   "source": [
    "fd_data = fetch_weather_temp_only()\n",
    "basis = skfda.representation.basis.Fourier(n_basis=9, domain_range=(0, 365))\n",
    "fd_basis = fd_data.to_basis(basis)\n",
    "finder1 = RegularizationParameterSearch(estimator=FPCABasis(regularization_lfd=2),\n",
    "                                       param_values=list(range(50, 101, 10)),\n",
    "                                       scoring=FPCARegularizationCVScorer(),\n",
    "                                       verbose=True,\n",
    "                                       n_jobs=12)\n",
    "\n",
    "finder1.fit(fd_basis)\n",
    "print(finder1.cv_results_)"
   ]
  },
  {
   "cell_type": "code",
   "execution_count": 6,
   "metadata": {},
   "outputs": [
    {
     "data": {
      "text/plain": [
       "array([-3035.70345943, -3035.68704489, -3035.67064175, -3035.65425   , -3035.63786962, -3035.62150061])"
      ]
     },
     "execution_count": 6,
     "metadata": {},
     "output_type": "execute_result"
    }
   ],
   "source": [
    "finder1.cv_results_['mean_test_score']"
   ]
  },
  {
   "cell_type": "code",
   "execution_count": 9,
   "metadata": {},
   "outputs": [
    {
     "data": {
      "text/plain": [
       "array([-3035.70345943, -3035.68704489, -3035.67064175, -3035.65425   , -3035.63786962, -3035.62150061])"
      ]
     },
     "execution_count": 9,
     "metadata": {},
     "output_type": "execute_result"
    }
   ],
   "source": [
    "# Good one\n",
    "finder1.cv_results_['mean_test_score']"
   ]
  },
  {
   "cell_type": "code",
   "execution_count": null,
   "metadata": {},
   "outputs": [],
   "source": []
  },
  {
   "cell_type": "code",
   "execution_count": 23,
   "metadata": {
    "scrolled": true
   },
   "outputs": [
    {
     "data": {
      "image/png": "[encoded data removed]",
      "text/plain": [
       "<Figure size 432x288 with 1 Axes>"
      ]
     },
     "metadata": {
      "needs_background": "light"
     },
     "output_type": "display_data"
    }
   ],
   "source": [
    "plot_results(finder1_params,finder1.cv_results_['mean_test_score'])"
   ]
  },
  {
   "cell_type": "code",
   "execution_count": 4,
   "metadata": {},
   "outputs": [
    {
     "data": {
      "text/plain": [
       "array([-3035.70345943, -3035.68704489, -3035.67064175, -3035.65425   ,\n",
       "       -3035.63786962, -3035.62150061])"
      ]
     },
     "execution_count": 4,
     "metadata": {},
     "output_type": "execute_result"
    }
   ],
   "source": [
    "finder1.cv_results_['mean_test_score']"
   ]
  },
  {
   "cell_type": "code",
   "execution_count": 9,
   "metadata": {},
   "outputs": [
    {
     "data": {
      "text/plain": [
       "array([-3035.70345943, -3035.68704489, -3035.67064175, -3035.65425   , -3035.63786962, -3035.62150061])"
      ]
     },
     "execution_count": 9,
     "metadata": {},
     "output_type": "execute_result"
    }
   ],
   "source": [
    "finder1.cv_results_['mean_test_score']"
   ]
  },
  {
   "cell_type": "code",
   "execution_count": 10,
   "metadata": {},
   "outputs": [
    {
     "data": {
      "image/png": "[encoded data removed]",
      "text/plain": [
       "<Figure size 432x288 with 1 Axes>"
      ]
     },
     "metadata": {
      "needs_background": "light"
     },
     "output_type": "display_data"
    }
   ],
   "source": [
    "plot_results(list(range(50, 101, 10)), -finder1.cv_results_['mean_test_score'])"
   ]
  },
  {
   "cell_type": "code",
   "execution_count": 11,
   "metadata": {},
   "outputs": [
    {
     "name": "stdout",
     "output_type": "stream",
     "text": [
      "Fitting 35 folds for each of 9 candidates, totalling 315 fits\n"
     ]
    },
    {
     "name": "stderr",
     "output_type": "stream",
     "text": [
      "[Parallel(n_jobs=12)]: Using backend LokyBackend with 12 concurrent workers.\n",
      "[Parallel(n_jobs=12)]: Done  26 tasks      | elapsed:    7.2s\n",
      "[Parallel(n_jobs=12)]: Done 176 tasks      | elapsed:   26.0s\n",
      "[Parallel(n_jobs=12)]: Done 315 out of 315 | elapsed:   42.8s finished\n"
     ]
    },
    {
     "data": {
      "text/plain": [
       "RegularizationParameterSearch(estimator=FPCABasis(centering=True,\n",
       "                                                  components_basis=None,\n",
       "                                                  n_components=9,\n",
       "                                                  regularization_coefficients=None,\n",
       "                                                  regularization_derivative_degree=2,\n",
       "                                                  regularization_parameter=0),\n",
       "                              n_jobs=12, param_values=None,\n",
       "                              scoring=<skfda.exploratory.fpca._regularization_param_search.FPCARegularizationCVScorer object at 0x7f8e029412d0>,\n",
       "                              verbose=True)"
      ]
     },
     "execution_count": 11,
     "metadata": {},
     "output_type": "execute_result"
    }
   ],
   "source": [
    "f2_params = list(range(110, 1000, 100))\n",
    "finder2 = RegularizationParameterSearch(estimator=FPCABasis(regularization_derivative_degree=2),\n",
    "                                       param_values=f2_params,\n",
    "                                       scoring=FPCARegularizationCVScorer(),\n",
    "                                       verbose=True,\n",
    "                                       n_jobs=12)\n",
    "\n",
    "finder2.fit(fd_basis)"
   ]
  },
  {
   "cell_type": "code",
   "execution_count": 12,
   "metadata": {},
   "outputs": [
    {
     "data": {
      "text/plain": [
       "array([-3035.60514295, -3035.44218925, -3035.28036206, -3035.11965296, -3034.96005366, -3034.80155593, -3034.64415163, -3034.48783272, -3034.33259125])"
      ]
     },
     "execution_count": 12,
     "metadata": {},
     "output_type": "execute_result"
    }
   ],
   "source": [
    "finder2.cv_results_['mean_test_score']"
   ]
  },
  {
   "cell_type": "code",
   "execution_count": 13,
   "metadata": {},
   "outputs": [
    {
     "data": {
      "image/png": "[encoded data removed]",
      "text/plain": [
       "<Figure size 432x288 with 1 Axes>"
      ]
     },
     "metadata": {
      "needs_background": "light"
     },
     "output_type": "display_data"
    }
   ],
   "source": [
    "plot_results(f2_params, -finder2.cv_results_['mean_test_score'])"
   ]
  },
  {
   "cell_type": "code",
   "execution_count": 14,
   "metadata": {},
   "outputs": [
    {
     "name": "stdout",
     "output_type": "stream",
     "text": [
      "Fitting 35 folds for each of 10 candidates, totalling 350 fits\n"
     ]
    },
    {
     "name": "stderr",
     "output_type": "stream",
     "text": [
      "[Parallel(n_jobs=12)]: Using backend LokyBackend with 12 concurrent workers.\n",
      "[Parallel(n_jobs=12)]: Done  26 tasks      | elapsed:    7.1s\n",
      "[Parallel(n_jobs=12)]: Done 176 tasks      | elapsed:   25.4s\n",
      "[Parallel(n_jobs=12)]: Done 350 out of 350 | elapsed:   46.8s finished\n"
     ]
    },
    {
     "data": {
      "text/plain": [
       "RegularizationParameterSearch(estimator=FPCABasis(centering=True,\n",
       "                                                  components_basis=None,\n",
       "                                                  n_components=9,\n",
       "                                                  regularization_coefficients=None,\n",
       "                                                  regularization_derivative_degree=2,\n",
       "                                                  regularization_parameter=0),\n",
       "                              n_jobs=12, param_values=None,\n",
       "                              scoring=<skfda.exploratory.fpca._regularization_param_search.FPCARegularizationCVScorer object at 0x7f8e02928410>,\n",
       "                              verbose=True)"
      ]
     },
     "execution_count": 14,
     "metadata": {},
     "output_type": "execute_result"
    }
   ],
   "source": [
    "f3_params = list(range(1000, 2000, 100))\n",
    "finder3 = RegularizationParameterSearch(estimator=FPCABasis(regularization_derivative_degree=2),\n",
    "                                       param_values=f3_params,\n",
    "                                       scoring=FPCARegularizationCVScorer(),\n",
    "                                       verbose=True,\n",
    "                                       n_jobs=12)\n",
    "\n",
    "finder3.fit(fd_basis)"
   ]
  },
  {
   "cell_type": "code",
   "execution_count": 15,
   "metadata": {},
   "outputs": [
    {
     "data": {
      "text/plain": [
       "array([-3034.19378861, -3034.04057261, -3033.88841144, -3033.73729745, -3033.58722308, -3033.43818087, -3033.29016341, -3033.14316338, -3032.99717354, -3032.85218673])"
      ]
     },
     "execution_count": 15,
     "metadata": {},
     "output_type": "execute_result"
    }
   ],
   "source": [
    "finder3.cv_results_['mean_test_score']"
   ]
  },
  {
   "cell_type": "code",
   "execution_count": 16,
   "metadata": {},
   "outputs": [
    {
     "data": {
      "image/png": "[encoded data removed]",
      "text/plain": [
       "<Figure size 432x288 with 1 Axes>"
      ]
     },
     "metadata": {
      "needs_background": "light"
     },
     "output_type": "display_data"
    }
   ],
   "source": [
    "plot_results(f3_params, -finder3.cv_results_['mean_test_score'])"
   ]
  },
  {
   "cell_type": "code",
   "execution_count": null,
   "metadata": {},
   "outputs": [],
   "source": []
  },
  {
   "cell_type": "code",
   "execution_count": 17,
   "metadata": {},
   "outputs": [],
   "source": [
    "def param_scores(params):\n",
    "    f = RegularizationParameterSearch(estimator=FPCABasis(regularization_derivative_degree=2),\n",
    "                                       param_values=params,\n",
    "                                       scoring=FPCARegularizationCVScorer(),\n",
    "                                       verbose=True,\n",
    "                                       n_jobs=12)\n",
    "\n",
    "    f.fit(fd_basis)\n",
    "    return f"
   ]
  },
  {
   "cell_type": "code",
   "execution_count": 18,
   "metadata": {
    "scrolled": true
   },
   "outputs": [
    {
     "name": "stdout",
     "output_type": "stream",
     "text": [
      "Fitting 35 folds for each of 8 candidates, totalling 280 fits\n"
     ]
    },
    {
     "name": "stderr",
     "output_type": "stream",
     "text": [
      "[Parallel(n_jobs=12)]: Using backend LokyBackend with 12 concurrent workers.\n",
      "[Parallel(n_jobs=12)]: Done  26 tasks      | elapsed:    7.2s\n",
      "[Parallel(n_jobs=12)]: Done 176 tasks      | elapsed:   25.4s\n",
      "[Parallel(n_jobs=12)]: Done 280 out of 280 | elapsed:   38.0s finished\n"
     ]
    }
   ],
   "source": [
    "f4_params = range(2000, 10000, 1000)\n",
    "finder4 = param_scores(f4_params)"
   ]
  },
  {
   "cell_type": "code",
   "execution_count": 19,
   "metadata": {},
   "outputs": [
    {
     "data": {
      "text/plain": [
       "array([-3032.70819584, -3031.32155423, -3030.02722329, -3028.81920683, -3027.69207781, -3026.64091176, -3025.66122719, -3024.74893142])"
      ]
     },
     "execution_count": 19,
     "metadata": {},
     "output_type": "execute_result"
    }
   ],
   "source": [
    "finder4.cv_results_['mean_test_score']"
   ]
  },
  {
   "cell_type": "code",
   "execution_count": 20,
   "metadata": {},
   "outputs": [
    {
     "data": {
      "image/png": "[encoded data removed]",
      "text/plain": [
       "<Figure size 432x288 with 1 Axes>"
      ]
     },
     "metadata": {
      "needs_background": "light"
     },
     "output_type": "display_data"
    }
   ],
   "source": [
    "plot_results(f4_params, -finder4.cv_results_['mean_test_score'])"
   ]
  },
  {
   "cell_type": "code",
   "execution_count": null,
   "metadata": {},
   "outputs": [],
   "source": []
  },
  {
   "cell_type": "code",
   "execution_count": 32,
   "metadata": {
    "scrolled": true
   },
   "outputs": [
    {
     "name": "stdout",
     "output_type": "stream",
     "text": [
      "Fitting 35 folds for each of 9 candidates, totalling 315 fits\n"
     ]
    },
    {
     "name": "stderr",
     "output_type": "stream",
     "text": [
      "[Parallel(n_jobs=12)]: Using backend LokyBackend with 12 concurrent workers.\n",
      "[Parallel(n_jobs=12)]: Done  26 tasks      | elapsed:    7.3s\n",
      "[Parallel(n_jobs=12)]: Done 176 tasks      | elapsed:   26.4s\n",
      "[Parallel(n_jobs=12)]: Done 315 out of 315 | elapsed:   43.3s finished\n"
     ]
    }
   ],
   "source": [
    "f5_params = range(10000, 100000, 10000)\n",
    "finder5 = param_scores(f5_params)"
   ]
  },
  {
   "cell_type": "code",
   "execution_count": 33,
   "metadata": {},
   "outputs": [
    {
     "data": {
      "text/plain": [
       "array([-3023.9002712 , -3018.25214163, -3016.14311283, -3015.9133416 , -3016.66175898, -3017.96406349, -3019.60571578, -3021.46324828, -3023.4589457 ])"
      ]
     },
     "execution_count": 33,
     "metadata": {},
     "output_type": "execute_result"
    }
   ],
   "source": [
    "finder5.cv_results_['mean_test_score']"
   ]
  },
  {
   "cell_type": "code",
   "execution_count": 55,
   "metadata": {},
   "outputs": [
    {
     "data": {
      "image/png": "[encoded data removed]",
      "text/plain": [
       "<Figure size 720x576 with 1 Axes>"
      ]
     },
     "metadata": {
      "needs_background": "light"
     },
     "output_type": "display_data"
    }
   ],
   "source": [
    "plot_results(f5_params, -finder5.cv_results_['mean_test_score'])"
   ]
  },
  {
   "cell_type": "code",
   "execution_count": null,
   "metadata": {},
   "outputs": [],
   "source": []
  },
  {
   "cell_type": "code",
   "execution_count": null,
   "metadata": {},
   "outputs": [],
   "source": []
  },
  {
   "cell_type": "code",
   "execution_count": 58,
   "metadata": {
    "scrolled": true
   },
   "outputs": [
    {
     "name": "stdout",
     "output_type": "stream",
     "text": [
      "Fitting 35 folds for each of 9 candidates, totalling 315 fits\n"
     ]
    },
    {
     "name": "stderr",
     "output_type": "stream",
     "text": [
      "[Parallel(n_jobs=12)]: Using backend LokyBackend with 12 concurrent workers.\n",
      "[Parallel(n_jobs=12)]: Done  26 tasks      | elapsed:    7.2s\n",
      "[Parallel(n_jobs=12)]: Done 176 tasks      | elapsed:   25.4s\n",
      "[Parallel(n_jobs=12)]: Done 315 out of 315 | elapsed:   42.0s finished\n"
     ]
    }
   ],
   "source": [
    "f6_params = range(31000, 40000, 1000)\n",
    "finder6 = param_scores(f6_params)"
   ]
  },
  {
   "cell_type": "code",
   "execution_count": 59,
   "metadata": {},
   "outputs": [
    {
     "data": {
      "text/plain": [
       "array([-3016.05582336, -3015.98544634, -3015.93086835, -3015.89105548, -3015.86504953, -3015.8519638 , -3015.85097866, -3015.86133703, -3015.88233984])"
      ]
     },
     "execution_count": 59,
     "metadata": {},
     "output_type": "execute_result"
    }
   ],
   "source": [
    "finder6.cv_results_['mean_test_score']"
   ]
  },
  {
   "cell_type": "code",
   "execution_count": 60,
   "metadata": {},
   "outputs": [
    {
     "data": {
      "image/png": "[encoded data removed]",
      "text/plain": [
       "<Figure size 864x576 with 1 Axes>"
      ]
     },
     "metadata": {
      "needs_background": "light"
     },
     "output_type": "display_data"
    }
   ],
   "source": [
    "plot_results(f6_params, -finder6.cv_results_['mean_test_score'])"
   ]
  },
  {
   "cell_type": "code",
   "execution_count": null,
   "metadata": {},
   "outputs": [],
   "source": []
  },
  {
   "cell_type": "code",
   "execution_count": null,
   "metadata": {},
   "outputs": [],
   "source": []
  },
  {
   "cell_type": "code",
   "execution_count": null,
   "metadata": {},
   "outputs": [],
   "source": []
  },
  {
   "cell_type": "code",
   "execution_count": null,
   "metadata": {},
   "outputs": [],
   "source": []
  },
  {
   "cell_type": "code",
   "execution_count": 35,
   "metadata": {},
   "outputs": [],
   "source": [
    "f1_params = list(range(50, 101, 10))"
   ]
  },
  {
   "cell_type": "code",
   "execution_count": 61,
   "metadata": {},
   "outputs": [],
   "source": [
    "total_params = f1_params + list(f2_params) + list(f3_params) + list(f4_params) + list(f5_params)\n",
    "total_params = total_params[:-6] + list(f6_params) + total_params[-6:]"
   ]
  },
  {
   "cell_type": "code",
   "execution_count": 62,
   "metadata": {
    "scrolled": true
   },
   "outputs": [
    {
     "data": {
      "text/plain": [
       "[50,\n",
       " 60,\n",
       " 70,\n",
       " 80,\n",
       " 90,\n",
       " 100,\n",
       " 110,\n",
       " 210,\n",
       " 310,\n",
       " 410,\n",
       " 510,\n",
       " 610,\n",
       " 710,\n",
       " 810,\n",
       " 910,\n",
       " 1000,\n",
       " 1100,\n",
       " 1200,\n",
       " 1300,\n",
       " 1400,\n",
       " 1500,\n",
       " 1600,\n",
       " 1700,\n",
       " 1800,\n",
       " 1900,\n",
       " 2000,\n",
       " 3000,\n",
       " 4000,\n",
       " 5000,\n",
       " 6000,\n",
       " 7000,\n",
       " 8000,\n",
       " 9000,\n",
       " 10000,\n",
       " 20000,\n",
       " 30000,\n",
       " 31000,\n",
       " 32000,\n",
       " 33000,\n",
       " 34000,\n",
       " 35000,\n",
       " 36000,\n",
       " 37000,\n",
       " 38000,\n",
       " 39000,\n",
       " 40000,\n",
       " 50000,\n",
       " 60000,\n",
       " 70000,\n",
       " 80000,\n",
       " 90000]"
      ]
     },
     "execution_count": 62,
     "metadata": {},
     "output_type": "execute_result"
    }
   ],
   "source": [
    "total_params"
   ]
  },
  {
   "cell_type": "code",
   "execution_count": 63,
   "metadata": {},
   "outputs": [],
   "source": [
    "total_scores = list(finder1.cv_results_['mean_test_score']) + \\\n",
    "               list(finder2.cv_results_['mean_test_score']) + \\\n",
    "               list(finder3.cv_results_['mean_test_score']) + \\\n",
    "               list(finder4.cv_results_['mean_test_score']) + \\\n",
    "               list(finder5.cv_results_['mean_test_score'])\n",
    "total_scores = total_scores[:-6] + list(finder6.cv_results_['mean_test_score']) + total_scores[-6:]"
   ]
  },
  {
   "cell_type": "code",
   "execution_count": 64,
   "metadata": {
    "scrolled": true
   },
   "outputs": [
    {
     "data": {
      "text/plain": [
       "[-3035.7034594257407,\n",
       " -3035.6870448938257,\n",
       " -3035.6706417546275,\n",
       " -3035.6542499995617,\n",
       " -3035.6378696200563,\n",
       " -3035.6215006075518,\n",
       " -3035.6051429534896,\n",
       " -3035.442189252249,\n",
       " -3035.2803620554205,\n",
       " -3035.1196529613617,\n",
       " -3034.9600536589487,\n",
       " -3034.801555926381,\n",
       " -3034.6441516300333,\n",
       " -3034.487832723297,\n",
       " -3034.332591245458,\n",
       " -3034.1937886059213,\n",
       " -3034.0405726139925,\n",
       " -3033.888411440439,\n",
       " -3033.737297449078,\n",
       " -3033.5872230843443,\n",
       " -3033.43818087026,\n",
       " -3033.2901634094146,\n",
       " -3033.1431633819802,\n",
       " -3032.9971735447148,\n",
       " -3032.852186730008,\n",
       " -3032.7081958449135,\n",
       " -3031.3215542257462,\n",
       " -3030.027223285503,\n",
       " -3028.8192068284343,\n",
       " -3027.692077809423,\n",
       " -3026.6409117612243,\n",
       " -3025.661227185011,\n",
       " -3024.748931415456,\n",
       " -3023.9002712000033,\n",
       " -3018.2521416270383,\n",
       " -3016.143112827595,\n",
       " -3016.0558233594456,\n",
       " -3015.985446343225,\n",
       " -3015.930868349406,\n",
       " -3015.891055476727,\n",
       " -3015.8650495255174,\n",
       " -3015.8519637964964,\n",
       " -3015.850978661106,\n",
       " -3015.861337031669,\n",
       " -3015.8823398388718,\n",
       " -3015.9133416027935,\n",
       " -3016.6617589778266,\n",
       " -3017.9640634918915,\n",
       " -3019.6057157794994,\n",
       " -3021.463248279339,\n",
       " -3023.4589456972144]"
      ]
     },
     "execution_count": 64,
     "metadata": {},
     "output_type": "execute_result"
    }
   ],
   "source": [
    "total_scores"
   ]
  },
  {
   "cell_type": "code",
   "execution_count": 65,
   "metadata": {},
   "outputs": [
    {
     "data": {
      "image/png": "[encoded data removed]",
      "text/plain": [
       "<Figure size 864x576 with 1 Axes>"
      ]
     },
     "metadata": {
      "needs_background": "light"
     },
     "output_type": "display_data"
    }
   ],
   "source": [
    "plot_results(total_params, -np.array(total_scores))"
   ]
  },
  {
   "cell_type": "code",
   "execution_count": 66,
   "metadata": {},
   "outputs": [
    {
     "data": {
      "text/plain": [
       "[12.0, 8.0]"
      ]
     },
     "execution_count": 66,
     "metadata": {},
     "output_type": "execute_result"
    }
   ],
   "source": [
    "plt.rcParams[\"figure.figsize\"]"
   ]
  },
  {
   "cell_type": "code",
   "execution_count": 67,
   "metadata": {},
   "outputs": [
    {
     "data": {
      "image/png": "[encoded data removed]",
      "text/plain": [
       "<Figure size 864x576 with 1 Axes>"
      ]
     },
     "metadata": {
      "needs_background": "light"
     },
     "output_type": "display_data"
    }
   ],
   "source": [
    "plt.title('LOOCV Error Scores')\n",
    "plt.xlabel('regularization parameter value')\n",
    "plt.ylabel('error scores')\n",
    "plt.rcParams[\"figure.figsize\"] = [12.0, 8.0]\n",
    "plt.xticks(range(0, 100001, 10000))\n",
    "plt.plot(total_params, -np.array(total_scores))\n",
    "plt.show()"
   ]
  },
  {
   "cell_type": "code",
   "execution_count": null,
   "metadata": {},
   "outputs": [],
   "source": []
  },
  {
   "cell_type": "code",
   "execution_count": null,
   "metadata": {},
   "outputs": [],
   "source": []
  },
  {
   "cell_type": "code",
   "execution_count": 76,
   "metadata": {},
   "outputs": [],
   "source": [
    "basis = Fourier(n_basis=9, domain_range=(0,365))\n",
    "fd_basis = basis.to_basis()"
   ]
  },
  {
   "cell_type": "code",
   "execution_count": 77,
   "metadata": {},
   "outputs": [
    {
     "data": {
      "text/plain": [
       "array([[ 1.00000000e+00,  4.61218864e-17, -5.93600689e-17, -9.22767379e-18, -4.94667241e-17, -5.18913244e-17, -2.58424225e-16,  3.59182954e-16, -1.43453500e-16],\n",
       "       [ 4.61218864e-17,  1.00324900e+00, -6.09127916e-17,  3.53232550e-17, -7.70160678e-17,  8.08922389e-17,  3.65372301e-16,  4.62324571e-17,  1.50555065e-16],\n",
       "       [-5.93600689e-17, -6.09127916e-17,  1.00324900e+00, -8.37662875e-17, -2.90873649e-16,  1.73618991e-16, -1.01726217e-16,  3.52898677e-17, -3.62973106e-16],\n",
       "       [-9.22767379e-18,  3.53232550e-17, -8.37662875e-17,  1.05198400e+00,  2.52053023e-16,  6.86530174e-17,  1.23217896e-16,  2.22043580e-16,  5.74886258e-16],\n",
       "       [-4.94667241e-17, -7.70160678e-17, -2.90873649e-16,  2.52053023e-16,  1.05198400e+00,  9.26407858e-17, -3.86190730e-16,  4.79353583e-16, -4.32710975e-16],\n",
       "       [-5.18913244e-17,  8.08922389e-17,  1.73618991e-16,  6.86530174e-17,  9.26407858e-17,  1.26316902e+00,  5.39901003e-16, -2.96094539e-16,  2.06251187e-17],\n",
       "       [-2.58424225e-16,  3.65372301e-16, -1.01726217e-16,  1.23217896e-16, -3.86190730e-16,  5.39901003e-16,  1.26316902e+00,  3.94669422e-18, -1.07309486e-16],\n",
       "       [ 3.59182954e-16,  4.62324571e-17,  3.52898677e-17,  2.22043580e-16,  4.79353583e-16, -2.96094539e-16,  3.94669422e-18,  1.83174405e+00,  5.16014419e-16],\n",
       "       [-1.43453500e-16,  1.50555065e-16, -3.62973106e-16,  5.74886258e-16, -4.32710975e-16,  2.06251187e-17, -1.07309486e-16,  5.16014419e-16,  1.83174405e+00]])"
      ]
     },
     "execution_count": 77,
     "metadata": {},
     "output_type": "execute_result"
    }
   ],
   "source": [
    "inner_product_regularized(fd_basis, fd_basis, derivative_degree, 37000)"
   ]
  },
  {
   "cell_type": "code",
   "execution_count": null,
   "metadata": {},
   "outputs": [],
   "source": []
  },
  {
   "cell_type": "code",
   "execution_count": null,
   "metadata": {},
   "outputs": [],
   "source": []
  },
  {
   "cell_type": "markdown",
   "metadata": {},
   "source": [
    "## Without regularization"
   ]
  },
  {
   "cell_type": "code",
   "execution_count": 82,
   "metadata": {},
   "outputs": [
    {
     "data": {
      "image/png": "[encoded data removed]",
      "text/plain": [
       "<Figure size 864x576 with 1 Axes>"
      ]
     },
     "metadata": {
      "needs_background": "light"
     },
     "output_type": "display_data"
    }
   ],
   "source": [
    "fd_data = fetch_weather_temp_only()\n",
    "basis = skfda.representation.basis.Fourier(n_basis=9, domain_range=(0, 365))\n",
    "fd_basis = fd_data.to_basis(basis)\n",
    "fpca = FPCABasis()\n",
    "fpca.fit(fd_basis)\n",
    "fpca.components.plot()\n",
    "pyplot.show()"
   ]
  },
  {
   "cell_type": "code",
   "execution_count": 83,
   "metadata": {},
   "outputs": [
    {
     "data": {
      "text/plain": [
       "array([[-0.92315509, -0.1395638 , -0.35575705, -0.00877893,  0.02460726,  0.02932107,  0.0028108 ,  0.0099933 ,  0.00966803],\n",
       "       [-0.33152114, -0.04318338,  0.89258995,  0.17111744,  0.24248046,  0.03645764,  0.03700911, -0.02547254,  0.00929921],\n",
       "       [-0.13791077,  0.91248735, -0.00643356,  0.26200806, -0.21919225,  0.16909055,  0.02715257, -0.00513582,  0.04751159]])"
      ]
     },
     "execution_count": 83,
     "metadata": {},
     "output_type": "execute_result"
    }
   ],
   "source": [
    "fpca.components.coefficients"
   ]
  },
  {
   "cell_type": "markdown",
   "metadata": {},
   "source": [
    "## With regularization"
   ]
  },
  {
   "cell_type": "code",
   "execution_count": 84,
   "metadata": {},
   "outputs": [
    {
     "data": {
      "image/png": "[encoded data removed]",
      "text/plain": [
       "<Figure size 864x576 with 1 Axes>"
      ]
     },
     "metadata": {
      "needs_background": "light"
     },
     "output_type": "display_data"
    }
   ],
   "source": [
    "fd_data = fetch_weather_temp_only()\n",
    "basis = skfda.representation.basis.Fourier(n_basis=9, domain_range=(0, 365))\n",
    "fd_basis = fd_data.to_basis(basis)\n",
    "fpca = FPCABasis(regularization_parameter=37000)\n",
    "fpca.fit(fd_basis)\n",
    "fpca.components.plot()\n",
    "pyplot.show()"
   ]
  },
  {
   "cell_type": "code",
   "execution_count": 85,
   "metadata": {},
   "outputs": [
    {
     "data": {
      "text/plain": [
       "array([[-0.92353538, -0.13917658, -0.3546806 , -0.00834547,  0.02340759,  0.02321556,  0.00222427,  0.00545705,  0.00527859],\n",
       "       [-0.33227949, -0.04343476,  0.89373317,  0.16277245,  0.23063607,  0.02868221,  0.02920414, -0.01384772,  0.00497662],\n",
       "       [-0.14046808,  0.91683385, -0.00424734,  0.24919524, -0.21220451,  0.1333818 ,  0.02076831, -0.0026984 ,  0.02566325]])"
      ]
     },
     "execution_count": 85,
     "metadata": {},
     "output_type": "execute_result"
    }
   ],
   "source": [
    "fpca.components.coefficients"
   ]
  },
  {
   "cell_type": "code",
   "execution_count": null,
   "metadata": {},
   "outputs": [],
   "source": []
  },
  {
   "cell_type": "code",
   "execution_count": null,
   "metadata": {},
   "outputs": [],
   "source": []
  },
  {
   "cell_type": "code",
   "execution_count": null,
   "metadata": {},
   "outputs": [],
   "source": []
  },
  {
   "cell_type": "code",
   "execution_count": 95,
   "metadata": {},
   "outputs": [],
   "source": [
    "import numpy as np\n",
    "from skfda.representation.grid import FDataGrid\n",
    "from sklearn.model_selection import GridSearchCV, LeaveOneOut\n",
    "\n",
    "\n",
    "def inner_product_regularized(first,\n",
    "                              second,\n",
    "                              derivative_degree,\n",
    "                              regularization_parameter):\n",
    "    return first.inner_product(second) + \\\n",
    "           regularization_parameter * \\\n",
    "           first.derivative(derivative_degree). \\\n",
    "               inner_product(second.derivative(derivative_degree))\n",
    "\n",
    "\n",
    "class FPCARegularizationCVScorer:\n",
    "    r\"\"\" This calculates the regularization score which is basically the norm\n",
    "    of the orthogonal component to the projection of the data onto the\n",
    "    components\n",
    "    Args:\n",
    "        estimator (Estimator): Linear smoothing estimator.\n",
    "        X (FDataGrid): Functional data to smooth.\n",
    "        y (FDataGrid): Functional data target. Should be the same as X.\n",
    "\n",
    "    Returns:\n",
    "        float: Cross validation score, with negative sign, as it is a\n",
    "        penalization.\n",
    "\n",
    "    \"\"\"\n",
    "\n",
    "    def __call__(self, estimator, X, y=None):\n",
    "        projection_coefficients = inner_product_regularized(X,\n",
    "                                                            estimator.components,\n",
    "                                                            estimator.regularization_derivative_degree,\n",
    "                                                            estimator.regularization_parameter)[\n",
    "            0]\n",
    "\n",
    "        for i in range(len(projection_coefficients)):\n",
    "            estimator.components.coefficients[i] *= projection_coefficients[i]\n",
    "        data_copy = X.copy(coefficients=np.copy(np.squeeze(X.coefficients)))\n",
    "\n",
    "        result = 0\n",
    "\n",
    "        for i in range(estimator.components.n_samples):\n",
    "            data_copy.coefficients -= estimator.components.coefficients[i]\n",
    "            \n",
    "            #result += inner_product_regularized(data_copy, data_copy,\n",
    "            #                                    estimator.regularization_derivative_degree,\n",
    "            #                                    estimator.regularization_parameter)\n",
    "        result = data_copy.inner_product(data_copy)\n",
    "        return -result\n",
    "\n",
    "\n",
    "class RegularizationParameterSearchAlt(GridSearchCV):\n",
    "    \"\"\"Chooses the best smoothing parameter and performs smoothing.\n",
    "\n",
    "\n",
    "    Args:\n",
    "        estimator (smoother estimator): scikit-learn compatible smoother.\n",
    "        param_values (iterable): iterable containing the values to test\n",
    "            for *smoothing_parameter*.\n",
    "        scoring (scoring method): scoring method used to measure the\n",
    "            performance of the smoothing. If ``None`` (the default) the\n",
    "            ``score`` method of the estimator is used.\n",
    "        n_jobs (int or None, optional (default=None)):\n",
    "            Number of jobs to run in parallel.\n",
    "            ``None`` means 1 unless in a :obj:`joblib.parallel_backend`\n",
    "            context. ``-1`` means using all processors. See\n",
    "            :term:`scikit-learn Glossary <sklearn:n_jobs>` for more details.\n",
    "\n",
    "        pre_dispatch (int, or string, optional):\n",
    "            Controls the number of jobs that get dispatched during parallel\n",
    "            execution. Reducing this number can be useful to avoid an\n",
    "            explosion of memory consumption when more jobs get dispatched\n",
    "            than CPUs can process. This parameter can be:\n",
    "\n",
    "            - None, in which case all the jobs are immediately\n",
    "              created and spawned. Use this for lightweight and\n",
    "              fast-running jobs, to avoid delays due to on-demand\n",
    "              spawning of the jobs\n",
    "\n",
    "            - An int, giving the exact number of total jobs that are\n",
    "              spawned\n",
    "\n",
    "            - A string, giving an expression as a function of n_jobs,\n",
    "              as in '2*n_jobs'\n",
    "        verbose (integer):\n",
    "            Controls the verbosity: the higher, the more messages.\n",
    "\n",
    "        error_score ('raise' or numeric):\n",
    "            Value to assign to the score if an error occurs in estimator\n",
    "            fitting. If set to 'raise', the error is raised. If a numeric\n",
    "            value is given, FitFailedWarning is raised. This parameter does\n",
    "            not affect the refit step, which will always raise the error.\n",
    "            Default is np.nan.\n",
    "    \"\"\"\n",
    "\n",
    "    def __init__(self, estimator, param_values, *, scoring=None, n_jobs=None,\n",
    "                 verbose=0, n_components=1):\n",
    "        super().__init__(estimator=estimator, scoring=scoring,\n",
    "                         param_grid={'regularization_parameter': param_values},\n",
    "                         n_jobs=n_jobs,\n",
    "                         refit=True, cv=LeaveOneOut(),\n",
    "                         verbose=verbose)\n",
    "        self.components_basis = estimator.components_basis\n",
    "        self.n_components = n_components\n",
    "\n",
    "    def fit(self, X, y=None, groups=None, **fit_params):\n",
    "\n",
    "        X -= X.mean()\n",
    "\n",
    "        if not self.components_basis:\n",
    "            self.components_basis = X.basis.copy()\n",
    "\n",
    "        # the maximum number of components only depends on the target basis\n",
    "        max_components = self.components_basis.n_basis\n",
    "\n",
    "        # and it cannot be bigger than the number of samples-1, as we are using\n",
    "        # leave one out cross validation\n",
    "        if max_components > X.n_samples:\n",
    "            raise AttributeError(\"The target basis must have less n_basis\"\n",
    "                                 \"than the number of samples - 1\")\n",
    "\n",
    "        self.estimator.n_components = self.n_components\n",
    "\n",
    "        return super().fit(X, y, groups=groups, **fit_params)\n"
   ]
  },
  {
   "cell_type": "code",
   "execution_count": 101,
   "metadata": {},
   "outputs": [],
   "source": [
    "fd_data = fetch_weather_temp_only()\n",
    "basis = skfda.representation.basis.Fourier(n_basis=9, domain_range=(0, 365))\n",
    "fd_basis = fd_data.to_basis(basis)"
   ]
  },
  {
   "cell_type": "code",
   "execution_count": 105,
   "metadata": {},
   "outputs": [],
   "source": [
    "\n",
    "def param_scores_alt():\n",
    "    params = [50]\n",
    "    scores = []\n",
    "    for i in range(1, 10):\n",
    "        f = RegularizationParameterSearchAlt(estimator=FPCABasis(regularization_derivative_degree=2),\n",
    "                                           param_values=params,\n",
    "                                           scoring=FPCARegularizationCVScorer(),\n",
    "                                           verbose=True,\n",
    "                                           n_jobs=12,\n",
    "                                           n_components=i)\n",
    "\n",
    "        f.fit(fd_basis)\n",
    "        scores += list(f.cv_results_['mean_test_score'])\n",
    "    return scores"
   ]
  },
  {
   "cell_type": "code",
   "execution_count": 106,
   "metadata": {
    "scrolled": true
   },
   "outputs": [
    {
     "name": "stdout",
     "output_type": "stream",
     "text": [
      "Fitting 35 folds for each of 1 candidates, totalling 35 fits\n"
     ]
    },
    {
     "name": "stderr",
     "output_type": "stream",
     "text": [
      "[Parallel(n_jobs=12)]: Using backend LokyBackend with 12 concurrent workers.\n",
      "[Parallel(n_jobs=12)]: Done  35 out of  35 | elapsed:    3.5s finished\n"
     ]
    },
    {
     "name": "stdout",
     "output_type": "stream",
     "text": [
      "Fitting 35 folds for each of 1 candidates, totalling 35 fits\n"
     ]
    },
    {
     "name": "stderr",
     "output_type": "stream",
     "text": [
      "[Parallel(n_jobs=12)]: Using backend LokyBackend with 12 concurrent workers.\n",
      "[Parallel(n_jobs=12)]: Done  35 out of  35 | elapsed:    3.7s finished\n"
     ]
    },
    {
     "name": "stdout",
     "output_type": "stream",
     "text": [
      "Fitting 35 folds for each of 1 candidates, totalling 35 fits\n"
     ]
    },
    {
     "name": "stderr",
     "output_type": "stream",
     "text": [
      "[Parallel(n_jobs=12)]: Using backend LokyBackend with 12 concurrent workers.\n",
      "[Parallel(n_jobs=12)]: Done  35 out of  35 | elapsed:    4.0s finished\n"
     ]
    },
    {
     "name": "stdout",
     "output_type": "stream",
     "text": [
      "Fitting 35 folds for each of 1 candidates, totalling 35 fits\n"
     ]
    },
    {
     "name": "stderr",
     "output_type": "stream",
     "text": [
      "[Parallel(n_jobs=12)]: Using backend LokyBackend with 12 concurrent workers.\n",
      "[Parallel(n_jobs=12)]: Done  35 out of  35 | elapsed:    4.4s finished\n"
     ]
    },
    {
     "name": "stdout",
     "output_type": "stream",
     "text": [
      "Fitting 35 folds for each of 1 candidates, totalling 35 fits\n"
     ]
    },
    {
     "name": "stderr",
     "output_type": "stream",
     "text": [
      "[Parallel(n_jobs=12)]: Using backend LokyBackend with 12 concurrent workers.\n",
      "[Parallel(n_jobs=12)]: Done  35 out of  35 | elapsed:    4.7s finished\n"
     ]
    },
    {
     "name": "stdout",
     "output_type": "stream",
     "text": [
      "Fitting 35 folds for each of 1 candidates, totalling 35 fits\n"
     ]
    },
    {
     "name": "stderr",
     "output_type": "stream",
     "text": [
      "[Parallel(n_jobs=12)]: Using backend LokyBackend with 12 concurrent workers.\n",
      "[Parallel(n_jobs=12)]: Done  35 out of  35 | elapsed:    5.0s finished\n"
     ]
    },
    {
     "name": "stdout",
     "output_type": "stream",
     "text": [
      "Fitting 35 folds for each of 1 candidates, totalling 35 fits\n"
     ]
    },
    {
     "name": "stderr",
     "output_type": "stream",
     "text": [
      "[Parallel(n_jobs=12)]: Using backend LokyBackend with 12 concurrent workers.\n",
      "[Parallel(n_jobs=12)]: Done  35 out of  35 | elapsed:    5.5s finished\n"
     ]
    },
    {
     "name": "stdout",
     "output_type": "stream",
     "text": [
      "Fitting 35 folds for each of 1 candidates, totalling 35 fits\n"
     ]
    },
    {
     "name": "stderr",
     "output_type": "stream",
     "text": [
      "[Parallel(n_jobs=12)]: Using backend LokyBackend with 12 concurrent workers.\n",
      "[Parallel(n_jobs=12)]: Done  35 out of  35 | elapsed:    5.7s finished\n"
     ]
    },
    {
     "name": "stdout",
     "output_type": "stream",
     "text": [
      "Fitting 35 folds for each of 1 candidates, totalling 35 fits\n"
     ]
    },
    {
     "name": "stderr",
     "output_type": "stream",
     "text": [
      "[Parallel(n_jobs=12)]: Using backend LokyBackend with 12 concurrent workers.\n",
      "[Parallel(n_jobs=12)]: Done  35 out of  35 | elapsed:    6.6s finished\n"
     ]
    }
   ],
   "source": [
    "finder_alt = param_scores_alt()"
   ]
  },
  {
   "cell_type": "code",
   "execution_count": 107,
   "metadata": {
    "scrolled": false
   },
   "outputs": [
    {
     "data": {
      "text/plain": [
       "[-2215.7868570303217,\n",
       " -518.793077724998,\n",
       " -162.9322635224646,\n",
       " -55.84680477657097,\n",
       " -44.79750015120646,\n",
       " -22.038221552157143,\n",
       " -8.938382077424873,\n",
       " -6.570352590597165,\n",
       " -2.180945474979656e-19]"
      ]
     },
     "execution_count": 107,
     "metadata": {},
     "output_type": "execute_result"
    }
   ],
   "source": [
    "finder_alt"
   ]
  },
  {
   "cell_type": "code",
   "execution_count": 108,
   "metadata": {},
   "outputs": [
    {
     "data": {
      "text/plain": [
       "-3035.7034594257407"
      ]
     },
     "execution_count": 108,
     "metadata": {},
     "output_type": "execute_result"
    }
   ],
   "source": [
    "sum(finder_alt)"
   ]
  },
  {
   "cell_type": "code",
   "execution_count": 113,
   "metadata": {},
   "outputs": [
    {
     "name": "stdout",
     "output_type": "stream",
     "text": [
      "Fitting 35 folds for each of 1 candidates, totalling 35 fits\n"
     ]
    },
    {
     "name": "stderr",
     "output_type": "stream",
     "text": [
      "[Parallel(n_jobs=12)]: Using backend LokyBackend with 12 concurrent workers.\n",
      "[Parallel(n_jobs=12)]: Done  35 out of  35 | elapsed:    7.4s finished\n"
     ]
    },
    {
     "data": {
      "text/plain": [
       "RegularizationParameterSearch(estimator=FPCABasis(centering=True,\n",
       "                                                  components_basis=None,\n",
       "                                                  n_components=9,\n",
       "                                                  regularization_coefficients=None,\n",
       "                                                  regularization_derivative_degree=2,\n",
       "                                                  regularization_parameter=0),\n",
       "                              n_jobs=12, param_values=None,\n",
       "                              scoring=<skfda.exploratory.fpca._regularization_param_search.FPCARegularizationCVScorer object at 0x7f8e0257bfd0>,\n",
       "                              verbose=True)"
      ]
     },
     "execution_count": 113,
     "metadata": {},
     "output_type": "execute_result"
    }
   ],
   "source": [
    "fd_data = fetch_weather_temp_only()\n",
    "basis = skfda.representation.basis.Fourier(n_basis=9, domain_range=(0, 365))\n",
    "fd_basis = fd_data.to_basis(basis)\n",
    "fpca = FPCABasis(regularization_derivative_degree=derivative_degree)\n",
    "finder = RegularizationParameterSearch(estimator=FPCABasis(regularization_derivative_degree=2),\n",
    "                                       param_values=[50],\n",
    "                                       scoring=skfda.exploratory.fpca.FPCARegularizationCVScorer(),\n",
    "                                       verbose=True,\n",
    "                                       n_jobs=12)\n",
    "\n",
    "finder.fit(fd_basis)"
   ]
  },
  {
   "cell_type": "code",
   "execution_count": 114,
   "metadata": {},
   "outputs": [
    {
     "name": "stdout",
     "output_type": "stream",
     "text": [
      "[-3035.70345943]\n"
     ]
    }
   ],
   "source": [
    "print(finder.cv_results_['mean_test_score'])"
   ]
  },
  {
   "cell_type": "code",
   "execution_count": null,
   "metadata": {},
   "outputs": [],
   "source": []
  },
  {
   "cell_type": "code",
   "execution_count": null,
   "metadata": {},
   "outputs": [],
   "source": []
  },
  {
   "cell_type": "code",
   "execution_count": null,
   "metadata": {},
   "outputs": [],
   "source": []
  },
  {
   "cell_type": "code",
   "execution_count": null,
   "metadata": {},
   "outputs": [],
   "source": []
  },
  {
   "cell_type": "code",
   "execution_count": null,
   "metadata": {},
   "outputs": [],
   "source": []
  },
  {
   "cell_type": "code",
   "execution_count": null,
   "metadata": {},
   "outputs": [],
   "source": []
  },
  {
   "cell_type": "code",
   "execution_count": null,
   "metadata": {},
   "outputs": [],
   "source": []
  },
  {
   "cell_type": "code",
   "execution_count": null,
   "metadata": {},
   "outputs": [],
   "source": []
  },
  {
   "cell_type": "code",
   "execution_count": null,
   "metadata": {},
   "outputs": [],
   "source": []
  },
  {
   "cell_type": "markdown",
   "metadata": {},
   "source": [
    "# Fourier"
   ]
  },
  {
   "cell_type": "code",
   "execution_count": 4,
   "metadata": {},
   "outputs": [],
   "source": [
    "basis = Fourier(domain_range=(0,365))\n",
    "fd_basis = basis.to_basis()"
   ]
  },
  {
   "cell_type": "code",
   "execution_count": 5,
   "metadata": {},
   "outputs": [
    {
     "data": {
      "text/plain": [
       "array([[ 1.00000000e+00, -7.54298493e-17,  6.93889390e-17],\n",
       "       [-7.54298493e-17,  1.55954546e+03, -1.41134649e-13],\n",
       "       [ 6.93889390e-17, -1.41134649e-13,  1.55954546e+03]])"
      ]
     },
     "execution_count": 5,
     "metadata": {},
     "output_type": "execute_result"
    }
   ],
   "source": [
    "inner_product_regularized(fd_basis, fd_basis, derivative_degree, 1)"
   ]
  },
  {
   "cell_type": "code",
   "execution_count": 6,
   "metadata": {},
   "outputs": [
    {
     "data": {
      "text/plain": [
       "array([[ 1.00000000e+00, -7.54298493e-17,  6.93889390e-17],\n",
       "       [-7.54298493e-17,  1.55864546e+04, -1.41060485e-12],\n",
       "       [ 6.93889390e-17, -1.41060485e-12,  1.55864546e+04]])"
      ]
     },
     "execution_count": 6,
     "metadata": {},
     "output_type": "execute_result"
    }
   ],
   "source": [
    "inner_product_regularized(fd_basis, fd_basis, derivative_degree, 1e1)"
   ]
  },
  {
   "cell_type": "code",
   "execution_count": 7,
   "metadata": {},
   "outputs": [
    {
     "data": {
      "text/plain": [
       "array([[ 0.00000000e+00,  0.00000000e+00,  0.00000000e+00],\n",
       "       [ 0.00000000e+00,  1.55854546e+03, -1.41052244e-13],\n",
       "       [ 0.00000000e+00, -1.41052244e-13,  1.55854546e+03]])"
      ]
     },
     "execution_count": 7,
     "metadata": {},
     "output_type": "execute_result"
    }
   ],
   "source": [
    "derived = fd_basis.derivative(derivative_degree)\n",
    "derived.inner_product(derived)"
   ]
  },
  {
   "cell_type": "code",
   "execution_count": null,
   "metadata": {},
   "outputs": [],
   "source": []
  },
  {
   "cell_type": "code",
   "execution_count": 8,
   "metadata": {},
   "outputs": [],
   "source": [
    "basis = Fourier(domain_range=(0,10))\n",
    "fd_basis = basis.to_basis()"
   ]
  },
  {
   "cell_type": "code",
   "execution_count": 9,
   "metadata": {},
   "outputs": [
    {
     "data": {
      "text/plain": [
       "array([[ 1.00000000e+00,  5.03346702e-17, -8.67361738e-17],\n",
       "       [ 5.03346702e-17,  1.15585455e+00,  9.09726511e-18],\n",
       "       [-8.67361738e-17,  9.09726511e-18,  1.15585455e+00]])"
      ]
     },
     "execution_count": 9,
     "metadata": {},
     "output_type": "execute_result"
    }
   ],
   "source": [
    "inner_product_regularized(fd_basis, fd_basis, derivative_degree, 1)"
   ]
  },
  {
   "cell_type": "code",
   "execution_count": 10,
   "metadata": {},
   "outputs": [
    {
     "data": {
      "text/plain": [
       "array([[ 1.00000000e+00,  5.03346702e-17, -8.67361738e-17],\n",
       "       [ 5.03346702e-17,  2.55854546e+00,  8.38415666e-18],\n",
       "       [-8.67361738e-17,  8.38415666e-18,  2.55854546e+00]])"
      ]
     },
     "execution_count": 10,
     "metadata": {},
     "output_type": "execute_result"
    }
   ],
   "source": [
    "inner_product_regularized(fd_basis, fd_basis, derivative_degree, 1e1)"
   ]
  },
  {
   "cell_type": "code",
   "execution_count": 11,
   "metadata": {},
   "outputs": [
    {
     "data": {
      "text/plain": [
       "array([[ 0.00000000e+00,  0.00000000e+00,  0.00000000e+00],\n",
       "       [ 0.00000000e+00,  1.55854546e-01, -7.92342715e-20],\n",
       "       [ 0.00000000e+00, -7.92342715e-20,  1.55854546e-01]])"
      ]
     },
     "execution_count": 11,
     "metadata": {},
     "output_type": "execute_result"
    }
   ],
   "source": [
    "derived = fd_basis.derivative(derivative_degree)\n",
    "derived.inner_product(derived)"
   ]
  },
  {
   "cell_type": "code",
   "execution_count": 12,
   "metadata": {},
   "outputs": [
    {
     "data": {
      "text/plain": [
       "FDataBasis(\n",
       "    basis=Fourier(domain_range=[array([ 0, 10])], n_basis=3, period=10),\n",
       "    coefficients=[[ 0.         -0.         -0.        ]\n",
       "     [ 0.         -0.39478418 -0.        ]\n",
       "     [ 0.         -0.         -0.39478418]],\n",
       "    dataset_label=None,\n",
       "    axes_labels=None,\n",
       "    extrapolation=None,\n",
       "    keepdims=False)"
      ]
     },
     "execution_count": 12,
     "metadata": {},
     "output_type": "execute_result"
    }
   ],
   "source": [
    "derived"
   ]
  },
  {
   "cell_type": "code",
   "execution_count": null,
   "metadata": {},
   "outputs": [],
   "source": []
  },
  {
   "cell_type": "markdown",
   "metadata": {},
   "source": [
    "Si usamos la base de Fourier, hay un parámetro más del cual depende el producto interior regularizado. Depende de la longitud del dominio de las funciones, en un factor cuadrático inverso. Cuando aumenta el periodo en un factor de 10 la diferencia entre el producto interior normal y el regularizado se reduce en un factor 100. Observamos que los elementos que no están en el diagona y no son 0 es el error de la integración numérica."
   ]
  },
  {
   "cell_type": "markdown",
   "metadata": {},
   "source": [
    "# Monomial "
   ]
  },
  {
   "cell_type": "code",
   "execution_count": 13,
   "metadata": {},
   "outputs": [],
   "source": [
    "basis = Monomial(domain_range=(0,1), n_basis=5)\n",
    "fd_basis = basis.to_basis()"
   ]
  },
  {
   "cell_type": "code",
   "execution_count": 14,
   "metadata": {},
   "outputs": [
    {
     "data": {
      "text/plain": [
       "array([[ 1.        ,  0.5       ,  0.33333333,  0.25      ,  0.2       ],\n",
       "       [ 0.5       ,  0.33333333,  0.25      ,  0.2       ,  0.16666667],\n",
       "       [ 0.33333333,  0.25      ,  4.2       ,  6.16666667,  8.14285714],\n",
       "       [ 0.25      ,  0.2       ,  6.16666667, 12.14285714, 18.125     ],\n",
       "       [ 0.2       ,  0.16666667,  8.14285714, 18.125     , 28.91111111]])"
      ]
     },
     "execution_count": 14,
     "metadata": {},
     "output_type": "execute_result"
    }
   ],
   "source": [
    "inner_product_regularized(fd_basis, fd_basis, derivative_degree, 1)"
   ]
  },
  {
   "cell_type": "code",
   "execution_count": 15,
   "metadata": {},
   "outputs": [
    {
     "data": {
      "text/plain": [
       "array([[1.00000000e+00, 5.00000000e-01, 3.33333333e-01, 2.50000000e-01, 2.00000000e-01],\n",
       "       [5.00000000e-01, 3.33333333e-01, 2.50000000e-01, 2.00000000e-01, 1.66666667e-01],\n",
       "       [3.33333333e-01, 2.50000000e-01, 4.02000000e+01, 6.01666667e+01, 8.01428571e+01],\n",
       "       [2.50000000e-01, 2.00000000e-01, 6.01666667e+01, 1.20142857e+02, 1.80125000e+02],\n",
       "       [2.00000000e-01, 1.66666667e-01, 8.01428571e+01, 1.80125000e+02, 2.88111111e+02]])"
      ]
     },
     "execution_count": 15,
     "metadata": {},
     "output_type": "execute_result"
    }
   ],
   "source": [
    "inner_product_regularized(fd_basis, fd_basis, derivative_degree, 1e1)"
   ]
  },
  {
   "cell_type": "code",
   "execution_count": 16,
   "metadata": {},
   "outputs": [
    {
     "data": {
      "text/plain": [
       "array([[ 0. ,  0. ,  0. ,  0. ,  0. ],\n",
       "       [ 0. ,  0. ,  0. ,  0. ,  0. ],\n",
       "       [ 0. ,  0. ,  4. ,  6. ,  8. ],\n",
       "       [ 0. ,  0. ,  6. , 12. , 18. ],\n",
       "       [ 0. ,  0. ,  8. , 18. , 28.8]])"
      ]
     },
     "execution_count": 16,
     "metadata": {},
     "output_type": "execute_result"
    }
   ],
   "source": [
    "derived = fd_basis.derivative(derivative_degree)\n",
    "derived.inner_product(derived)"
   ]
  },
  {
   "cell_type": "code",
   "execution_count": null,
   "metadata": {},
   "outputs": [],
   "source": []
  },
  {
   "cell_type": "code",
   "execution_count": 17,
   "metadata": {},
   "outputs": [],
   "source": [
    "basis = Monomial(domain_range=(0,10), n_basis=5)\n",
    "fd_basis = basis.to_basis()"
   ]
  },
  {
   "cell_type": "code",
   "execution_count": 18,
   "metadata": {},
   "outputs": [
    {
     "data": {
      "text/plain": [
       "array([[0.00e+00, 0.00e+00, 0.00e+00, 0.00e+00, 0.00e+00],\n",
       "       [0.00e+00, 0.00e+00, 0.00e+00, 0.00e+00, 0.00e+00],\n",
       "       [0.00e+00, 0.00e+00, 4.00e+01, 6.00e+02, 8.00e+03],\n",
       "       [0.00e+00, 0.00e+00, 6.00e+02, 1.20e+04, 1.80e+05],\n",
       "       [0.00e+00, 0.00e+00, 8.00e+03, 1.80e+05, 2.88e+06]])"
      ]
     },
     "execution_count": 18,
     "metadata": {},
     "output_type": "execute_result"
    }
   ],
   "source": [
    "derived = fd_basis.derivative(derivative_degree)\n",
    "derived.inner_product(derived)"
   ]
  },
  {
   "cell_type": "markdown",
   "metadata": {},
   "source": [
    "Si usamos la base monomial debemos de darnos cuenta de que si solo tenemos dos elementos en la base (cte y x) usar el producto regularizado y el normal tiene los mismos resultados. En este caso la dependencia de la longitud del dominio es más complicado. Observemos que depende del orden del monomio resultante."
   ]
  },
  {
   "cell_type": "code",
   "execution_count": 19,
   "metadata": {},
   "outputs": [
    {
     "name": "stdout",
     "output_type": "stream",
     "text": [
      "FDataBasis(\n",
      "    _basis=Monomial(domain_range=[array([ 0, 10])], n_basis=5),\n",
      "    coefficients=[[1. 0. 0. 0. 0.]\n",
      "     [0. 1. 0. 0. 0.]\n",
      "     [0. 0. 1. 0. 0.]\n",
      "     [0. 0. 0. 1. 0.]\n",
      "     [0. 0. 0. 0. 1.]])\n"
     ]
    }
   ],
   "source": [
    "print(fd_basis)"
   ]
  },
  {
   "cell_type": "code",
   "execution_count": null,
   "metadata": {},
   "outputs": [],
   "source": []
  },
  {
   "cell_type": "markdown",
   "metadata": {},
   "source": [
    "# BSpline"
   ]
  },
  {
   "cell_type": "code",
   "execution_count": 20,
   "metadata": {},
   "outputs": [],
   "source": [
    "basis = BSpline(domain_range=(0,1), n_basis=4)\n",
    "fd_basis = basis.to_basis()"
   ]
  },
  {
   "cell_type": "code",
   "execution_count": 21,
   "metadata": {},
   "outputs": [
    {
     "data": {
      "text/plain": [
       "array([[ 1.21428571e+01, -1.79285714e+01,  2.85714286e-02,  6.00714286e+00],\n",
       "       [-1.79285714e+01,  3.60857143e+01, -1.79357143e+01,  2.85714286e-02],\n",
       "       [ 2.85714286e-02, -1.79357143e+01,  3.60857143e+01, -1.79285714e+01],\n",
       "       [ 6.00714286e+00,  2.85714286e-02, -1.79285714e+01,  1.21428571e+01]])"
      ]
     },
     "execution_count": 21,
     "metadata": {},
     "output_type": "execute_result"
    }
   ],
   "source": [
    "inner_product_regularized(fd_basis, fd_basis, derivative_degree, 1)"
   ]
  },
  {
   "cell_type": "code",
   "execution_count": 22,
   "metadata": {},
   "outputs": [
    {
     "data": {
      "text/plain": [
       "array([[ 1.20142857e+02, -1.79928571e+02,  2.85714286e-02,  6.00071429e+01],\n",
       "       [-1.79928571e+02,  3.60085714e+02, -1.79935714e+02,  2.85714286e-02],\n",
       "       [ 2.85714286e-02, -1.79935714e+02,  3.60085714e+02, -1.79928571e+02],\n",
       "       [ 6.00071429e+01,  2.85714286e-02, -1.79928571e+02,  1.20142857e+02]])"
      ]
     },
     "execution_count": 22,
     "metadata": {},
     "output_type": "execute_result"
    }
   ],
   "source": [
    "inner_product_regularized(fd_basis, fd_basis, derivative_degree, 1e1)"
   ]
  },
  {
   "cell_type": "code",
   "execution_count": 23,
   "metadata": {
    "scrolled": true
   },
   "outputs": [
    {
     "data": {
      "text/plain": [
       "array([[ 1.20000000e+01, -1.80000000e+01,  3.55271368e-15,  6.00000000e+00],\n",
       "       [-1.80000000e+01,  3.60000000e+01, -1.80000000e+01,  2.66453526e-15],\n",
       "       [ 2.66453526e-15, -1.80000000e+01,  3.60000000e+01, -1.80000000e+01],\n",
       "       [ 6.00000000e+00,  3.55271368e-15, -1.80000000e+01,  1.20000000e+01]])"
      ]
     },
     "execution_count": 23,
     "metadata": {},
     "output_type": "execute_result"
    }
   ],
   "source": [
    "derived = fd_basis.derivative(derivative_degree)\n",
    "derived.inner_product(derived)"
   ]
  },
  {
   "cell_type": "code",
   "execution_count": null,
   "metadata": {},
   "outputs": [],
   "source": []
  },
  {
   "cell_type": "code",
   "execution_count": 26,
   "metadata": {},
   "outputs": [],
   "source": [
    "basis = BSpline(domain_range=(0,10), n_basis=5)\n",
    "fd_basis = basis.to_basis()"
   ]
  },
  {
   "cell_type": "code",
   "execution_count": 27,
   "metadata": {},
   "outputs": [
    {
     "data": {
      "text/plain": [
       "array([[ 0.096     , -0.13204479,  0.02408959,  0.01195521,  0.        ],\n",
       "       [-0.13204479,  0.19217917, -0.04826876, -0.02382083,  0.01195521],\n",
       "       [ 0.02408959, -0.04826876,  0.04835834, -0.04826876,  0.02408959],\n",
       "       [ 0.01195521, -0.02382083, -0.04826876,  0.19217917, -0.13204479],\n",
       "       [ 0.        ,  0.01195521,  0.02408959, -0.13204479,  0.096     ]])"
      ]
     },
     "execution_count": 27,
     "metadata": {},
     "output_type": "execute_result"
    }
   ],
   "source": [
    "derived = fd_basis.derivative(derivative_degree)\n",
    "derived.inner_product(derived)"
   ]
  },
  {
   "cell_type": "code",
   "execution_count": null,
   "metadata": {},
   "outputs": [],
   "source": []
  },
  {
   "cell_type": "code",
   "execution_count": null,
   "metadata": {},
   "outputs": [],
   "source": []
  }
 ],
 "metadata": {
  "kernelspec": {
   "display_name": "Python [conda env:scikit-fda] *",
   "language": "python",
   "name": "conda-env-scikit-fda-py"
  },
  "language_info": {
   "codemirror_mode": {
    "name": "ipython",
    "version": 3
   },
   "file_extension": ".py",
   "mimetype": "text/x-python",
   "name": "python",
   "nbconvert_exporter": "python",
   "pygments_lexer": "ipython3",
   "version": "3.7.5"
  }
 },
 "nbformat": 4,
 "nbformat_minor": 2
}
